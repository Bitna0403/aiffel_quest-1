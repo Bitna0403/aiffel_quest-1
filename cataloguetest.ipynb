{
  "nbformat": 4,
  "nbformat_minor": 0,
  "metadata": {
    "colab": {
      "provenance": [],
      "toc_visible": true,
      "authorship_tag": "ABX9TyMbDUeOyk3TA/FlmeuyxM0j",
      "include_colab_link": true
    },
    "kernelspec": {
      "name": "python3",
      "display_name": "Python 3"
    },
    "language_info": {
      "name": "python"
    }
  },
  "cells": [
    {
      "cell_type": "markdown",
      "metadata": {
        "id": "view-in-github",
        "colab_type": "text"
      },
      "source": [
        "<a href=\"https://colab.research.google.com/github/okchang95/aiffel_quest/blob/main/cataloguetest.ipynb\" target=\"_parent\"><img src=\"https://colab.research.google.com/assets/colab-badge.svg\" alt=\"Open In Colab\"/></a>"
      ]
    },
    {
      "cell_type": "code",
      "execution_count": null,
      "metadata": {
        "id": "SOIKAkU9uFg0"
      },
      "outputs": [],
      "source": []
    },
    {
      "cell_type": "markdown",
      "source": [
        "[1. a](#1)<br>\n",
        "    [1-1](##1-1)<br>\n",
        "    [1-2](##1-2)<br>\n",
        "[2.a](#2)<br>\n",
        "    [2-1](##2-1)<br>\n",
        "        [2-1-1](###2-1-1)<br>\n",
        "        [2-1-2](###2-1-2)<br>\n",
        "    [2-2](##2-2)<br>\n",
        "[3외않됨?](#3)<br>"
      ],
      "metadata": {
        "id": "WgRlnYHvuJGQ"
      }
    },
    {
      "cell_type": "markdown",
      "source": [
        "#1\n"
      ],
      "metadata": {
        "id": "Q8lB6_Jiu-LD"
      }
    },
    {
      "cell_type": "markdown",
      "source": [
        "##1-1\n"
      ],
      "metadata": {
        "id": "L6vkUNfXu-IF"
      }
    },
    {
      "cell_type": "markdown",
      "source": [
        "##1-2\n"
      ],
      "metadata": {
        "id": "IZ3wSMzmu-FT"
      }
    },
    {
      "cell_type": "markdown",
      "source": [
        "#2\n"
      ],
      "metadata": {
        "id": "D2r54SZGu98u"
      }
    },
    {
      "cell_type": "markdown",
      "source": [
        "##2-1\n"
      ],
      "metadata": {
        "id": "3tEH9w5ku82m"
      }
    },
    {
      "cell_type": "markdown",
      "source": [
        "###2-1-1\n"
      ],
      "metadata": {
        "id": "kMBc5CyHu9Nj"
      }
    },
    {
      "cell_type": "markdown",
      "source": [
        "###2-1-2\n"
      ],
      "metadata": {
        "id": "yjvqW6RcvHSf"
      }
    },
    {
      "cell_type": "markdown",
      "source": [
        "##2-2\n"
      ],
      "metadata": {
        "id": "VTjmqt5AvIof"
      }
    },
    {
      "cell_type": "markdown",
      "source": [
        "#3\n",
        "\n",
        "dddd"
      ],
      "metadata": {
        "id": "NwPwH0N7vJyO"
      }
    },
    {
      "cell_type": "code",
      "source": [],
      "metadata": {
        "id": "XyNIUQ0hvGcZ"
      },
      "execution_count": null,
      "outputs": []
    }
  ]
}